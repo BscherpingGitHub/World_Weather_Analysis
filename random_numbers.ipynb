{
 "cells": [
  {
   "cell_type": "code",
   "execution_count": 1,
   "id": "1843f316",
   "metadata": {},
   "outputs": [],
   "source": [
    "import random"
   ]
  },
  {
   "cell_type": "code",
   "execution_count": 2,
   "id": "e6edcb09",
   "metadata": {},
   "outputs": [
    {
     "data": {
      "text/plain": [
       "-83"
      ]
     },
     "execution_count": 2,
     "metadata": {},
     "output_type": "execute_result"
    }
   ],
   "source": [
    "random.randint(-90,90)"
   ]
  },
  {
   "cell_type": "code",
   "execution_count": 3,
   "id": "23b6e059",
   "metadata": {},
   "outputs": [
    {
     "data": {
      "text/plain": [
       "0.08841098826447258"
      ]
     },
     "execution_count": 3,
     "metadata": {},
     "output_type": "execute_result"
    }
   ],
   "source": [
    "random.random()"
   ]
  },
  {
   "cell_type": "code",
   "execution_count": 4,
   "id": "c045ee33",
   "metadata": {},
   "outputs": [
    {
     "data": {
      "text/plain": [
       "30.577371680329016"
      ]
     },
     "execution_count": 4,
     "metadata": {},
     "output_type": "execute_result"
    }
   ],
   "source": [
    "random_number = random.randint(-90,89) + random.random()\n",
    "random_number"
   ]
  },
  {
   "cell_type": "code",
   "execution_count": 5,
   "id": "bc0727fd",
   "metadata": {},
   "outputs": [
    {
     "data": {
      "text/plain": [
       "[55.70680437672535,\n",
       " 7.085680423482618,\n",
       " -50.7693571273441,\n",
       " -55.62047353672334,\n",
       " -49.81150095064572,\n",
       " 30.19259022593931,\n",
       " 54.12489931621631,\n",
       " -87.14564875564508,\n",
       " -66.91903061016792,\n",
       " -76.69427706313462]"
      ]
     },
     "execution_count": 5,
     "metadata": {},
     "output_type": "execute_result"
    }
   ],
   "source": [
    "x = 1\n",
    "latitudes = []\n",
    "while x < 11:\n",
    "    random_lat = random.randint(-90, 89) + random.random()\n",
    "    latitudes.append(random_lat)\n",
    "    x += 1\n",
    "latitudes"
   ]
  },
  {
   "cell_type": "code",
   "execution_count": 6,
   "id": "816248b8",
   "metadata": {},
   "outputs": [
    {
     "data": {
      "text/plain": [
       "84"
      ]
     },
     "execution_count": 6,
     "metadata": {},
     "output_type": "execute_result"
    }
   ],
   "source": [
    "random.randrange(-90,90, step=3)"
   ]
  },
  {
   "cell_type": "code",
   "execution_count": 7,
   "id": "940b878f",
   "metadata": {},
   "outputs": [
    {
     "data": {
      "text/plain": [
       "-0.5240984226125533"
      ]
     },
     "execution_count": 7,
     "metadata": {},
     "output_type": "execute_result"
    }
   ],
   "source": [
    "random.uniform(-90,90)"
   ]
  },
  {
   "cell_type": "code",
   "execution_count": 8,
   "id": "372beed6",
   "metadata": {},
   "outputs": [],
   "source": [
    "# Import the NumPy module.\n",
    "import numpy as np"
   ]
  },
  {
   "cell_type": "code",
   "execution_count": 9,
   "id": "bb47cc41",
   "metadata": {},
   "outputs": [
    {
     "data": {
      "text/plain": [
       "-56.5860478485501"
      ]
     },
     "execution_count": 9,
     "metadata": {},
     "output_type": "execute_result"
    }
   ],
   "source": [
    "np.random.uniform(-90.000, 90.000)"
   ]
  },
  {
   "cell_type": "code",
   "execution_count": 10,
   "id": "49fd8f78",
   "metadata": {},
   "outputs": [
    {
     "data": {
      "text/plain": [
       "array([ 19.26947179,  -9.14536477, -71.22250552,  61.68530912,\n",
       "       -55.12472228,  86.18217558,  59.85484877,  76.42899384,\n",
       "       -71.00459223,  41.06857334,  21.55288774,  73.81868978,\n",
       "        21.26152776, -66.09654407, -78.89913089, -40.52599816,\n",
       "        17.39670237,  27.32097469,  41.12816958,  17.15212402,\n",
       "        68.84823086,  42.54815428, -49.10140648, -60.82978617,\n",
       "        87.13186357, -55.23076048, -87.8377581 , -51.77327667,\n",
       "        11.38755819,  81.38798602,  41.58696754, -46.1597831 ,\n",
       "         8.49183701,   2.82468896, -83.7351872 , -60.27763397,\n",
       "       -43.84241267,   1.49543936, -53.48527317,  -0.99979305,\n",
       "       -21.83290335,  88.30677734,  -2.17323094,   7.07557971,\n",
       "       -34.60043888,  82.20446867,  19.19925326,  46.49992207,\n",
       "       -32.6672638 ,  52.48543767])"
      ]
     },
     "execution_count": 10,
     "metadata": {},
     "output_type": "execute_result"
    }
   ],
   "source": [
    "np.random.uniform(-90.000, 90.000, size=50)"
   ]
  },
  {
   "cell_type": "code",
   "execution_count": 11,
   "id": "ed10e543",
   "metadata": {},
   "outputs": [],
   "source": [
    "# Import timeit.\n",
    "import timeit"
   ]
  },
  {
   "cell_type": "code",
   "execution_count": 12,
   "id": "1a83e4a9",
   "metadata": {},
   "outputs": [
    {
     "name": "stdout",
     "output_type": "stream",
     "text": [
      "16.3 µs ± 387 ns per loop (mean ± std. dev. of 7 runs, 100000 loops each)\n"
     ]
    }
   ],
   "source": [
    "%timeit np.random.uniform(-90.000, 90.000, size=1500)"
   ]
  },
  {
   "cell_type": "code",
   "execution_count": 13,
   "id": "64deec1e",
   "metadata": {},
   "outputs": [
    {
     "name": "stdout",
     "output_type": "stream",
     "text": [
      "2.66 ms ± 202 µs per loop (mean ± std. dev. of 7 runs, 100 loops each)\n"
     ]
    }
   ],
   "source": [
    "def latitudes(size):\n",
    "    latitudes = []\n",
    "    x = 0\n",
    "    while x < (size):\n",
    "        random_lat = random.randint(-90, 90) + random.random()\n",
    "        latitudes.append(random_lat)\n",
    "        x += 1\n",
    "    return latitudes\n",
    "# Call the function with 1500.\n",
    "%timeit latitudes(1500)"
   ]
  }
 ],
 "metadata": {
  "kernelspec": {
   "display_name": "PythonData",
   "language": "python",
   "name": "pythondata"
  },
  "language_info": {
   "codemirror_mode": {
    "name": "ipython",
    "version": 3
   },
   "file_extension": ".py",
   "mimetype": "text/x-python",
   "name": "python",
   "nbconvert_exporter": "python",
   "pygments_lexer": "ipython3",
   "version": "3.7.11"
  }
 },
 "nbformat": 4,
 "nbformat_minor": 5
}
