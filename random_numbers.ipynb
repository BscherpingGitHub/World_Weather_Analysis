{
 "cells": [
  {
   "cell_type": "code",
   "execution_count": 1,
   "id": "1843f316",
   "metadata": {},
   "outputs": [],
   "source": [
    "import random"
   ]
  },
  {
   "cell_type": "code",
   "execution_count": 2,
   "id": "e6edcb09",
   "metadata": {},
   "outputs": [
    {
     "data": {
      "text/plain": [
       "-73"
      ]
     },
     "execution_count": 2,
     "metadata": {},
     "output_type": "execute_result"
    }
   ],
   "source": [
    "random.randint(-90,90)"
   ]
  },
  {
   "cell_type": "code",
   "execution_count": 3,
   "id": "23b6e059",
   "metadata": {},
   "outputs": [
    {
     "data": {
      "text/plain": [
       "0.8398619575180237"
      ]
     },
     "execution_count": 3,
     "metadata": {},
     "output_type": "execute_result"
    }
   ],
   "source": [
    "random.random()"
   ]
  },
  {
   "cell_type": "code",
   "execution_count": 5,
   "id": "c045ee33",
   "metadata": {},
   "outputs": [
    {
     "data": {
      "text/plain": [
       "-33.026782936980545"
      ]
     },
     "execution_count": 5,
     "metadata": {},
     "output_type": "execute_result"
    }
   ],
   "source": [
    "random_number = random.randint(-90,89) + random.random()\n",
    "random_number"
   ]
  },
  {
   "cell_type": "code",
   "execution_count": 7,
   "id": "bc0727fd",
   "metadata": {},
   "outputs": [
    {
     "data": {
      "text/plain": [
       "[34.6179742552237,\n",
       " -8.957876980221542,\n",
       " -33.56041577065796,\n",
       " -30.159930698011877,\n",
       " -86.66585180656352,\n",
       " -1.3558166884430847,\n",
       " 29.028864566349796,\n",
       " -59.778762821586255,\n",
       " 2.913271992476485,\n",
       " 17.073363762696765]"
      ]
     },
     "execution_count": 7,
     "metadata": {},
     "output_type": "execute_result"
    }
   ],
   "source": [
    "x = 1\n",
    "latitudes = []\n",
    "while x < 11:\n",
    "    random_lat = random.randint(-90, 89) + random.random()\n",
    "    latitudes.append(random_lat)\n",
    "    x += 1\n",
    "latitudes"
   ]
  },
  {
   "cell_type": "code",
   "execution_count": 48,
   "id": "816248b8",
   "metadata": {},
   "outputs": [
    {
     "data": {
      "text/plain": [
       "33"
      ]
     },
     "execution_count": 48,
     "metadata": {},
     "output_type": "execute_result"
    }
   ],
   "source": [
    "random.randrange(-90,90, step=3)"
   ]
  },
  {
   "cell_type": "code",
   "execution_count": 49,
   "id": "940b878f",
   "metadata": {},
   "outputs": [
    {
     "data": {
      "text/plain": [
       "-68.58291792664554"
      ]
     },
     "execution_count": 49,
     "metadata": {},
     "output_type": "execute_result"
    }
   ],
   "source": [
    "random.uniform(-90,90)"
   ]
  },
  {
   "cell_type": "code",
   "execution_count": 50,
   "id": "372beed6",
   "metadata": {},
   "outputs": [],
   "source": [
    "# Import the NumPy module.\n",
    "import numpy as np"
   ]
  },
  {
   "cell_type": "code",
   "execution_count": 51,
   "id": "bb47cc41",
   "metadata": {},
   "outputs": [
    {
     "data": {
      "text/plain": [
       "-40.36763632256932"
      ]
     },
     "execution_count": 51,
     "metadata": {},
     "output_type": "execute_result"
    }
   ],
   "source": [
    "np.random.uniform(-90.000, 90.000)"
   ]
  },
  {
   "cell_type": "code",
   "execution_count": 52,
   "id": "49fd8f78",
   "metadata": {},
   "outputs": [
    {
     "data": {
      "text/plain": [
       "array([-82.49233049,  35.5149311 ,  71.31671069,  75.80543145,\n",
       "       -53.8369771 ,  29.88435267, -15.31692895, -88.25565118,\n",
       "       -58.87297059,  54.19285587,  84.34849947, -72.60442142,\n",
       "       -76.66464532, -54.01932663,  65.69079883,  32.54873651,\n",
       "        71.80596174, -21.14065   ,  66.94712404,  -3.6336764 ,\n",
       "        87.97344299,  68.89520775, -22.84638677,  -4.4017777 ,\n",
       "        39.53770325, -17.33570455,  85.7624916 , -65.57182741,\n",
       "        10.76600701,  54.34057075,   8.85241154,  84.82973191,\n",
       "       -12.00233997,  70.5442081 ,  57.62949095, -69.56828586,\n",
       "        71.70715757, -79.35873647,  -7.58508839, -34.82134542,\n",
       "        26.30421856,   6.36989647,  72.86085771, -77.84819204,\n",
       "       -30.57001826, -34.7931956 ,   8.11150478,  81.42919654,\n",
       "        25.34902315, -87.98377305])"
      ]
     },
     "execution_count": 52,
     "metadata": {},
     "output_type": "execute_result"
    }
   ],
   "source": [
    "np.random.uniform(-90.000, 90.000, size=50)"
   ]
  },
  {
   "cell_type": "code",
   "execution_count": 53,
   "id": "ed10e543",
   "metadata": {},
   "outputs": [],
   "source": [
    "# Import timeit.\n",
    "import timeit"
   ]
  },
  {
   "cell_type": "code",
   "execution_count": 55,
   "id": "1a83e4a9",
   "metadata": {},
   "outputs": [
    {
     "name": "stdout",
     "output_type": "stream",
     "text": [
      "16 µs ± 752 ns per loop (mean ± std. dev. of 7 runs, 10000 loops each)\n"
     ]
    }
   ],
   "source": [
    "%timeit np.random.uniform(-90.000, 90.000, size=1500)"
   ]
  },
  {
   "cell_type": "code",
   "execution_count": 56,
   "id": "64deec1e",
   "metadata": {},
   "outputs": [
    {
     "name": "stdout",
     "output_type": "stream",
     "text": [
      "2.59 ms ± 224 µs per loop (mean ± std. dev. of 7 runs, 100 loops each)\n"
     ]
    }
   ],
   "source": [
    "def latitudes(size):\n",
    "    latitudes = []\n",
    "    x = 0\n",
    "    while x < (size):\n",
    "        random_lat = random.randint(-90, 90) + random.random()\n",
    "        latitudes.append(random_lat)\n",
    "        x += 1\n",
    "    return latitudes\n",
    "# Call the function with 1500.\n",
    "%timeit latitudes(1500)"
   ]
  }
 ],
 "metadata": {
  "kernelspec": {
   "display_name": "PythonData",
   "language": "python",
   "name": "pythondata"
  },
  "language_info": {
   "codemirror_mode": {
    "name": "ipython",
    "version": 3
   },
   "file_extension": ".py",
   "mimetype": "text/x-python",
   "name": "python",
   "nbconvert_exporter": "python",
   "pygments_lexer": "ipython3",
   "version": "3.7.11"
  }
 },
 "nbformat": 4,
 "nbformat_minor": 5
}
